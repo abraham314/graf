{
 "cells": [
  {
   "cell_type": "markdown",
   "metadata": {},
   "source": [
    "Download\n",
    "Software\n",
    "Source and binary releases: http://cheeseshop.python.org/pypi/networkx/\n",
    "\n",
    "Github (latest development): https://github.com/networkx/networkx/\n",
    "\n",
    "Documentation\n",
    "PDF\n",
    "\n",
    "http://networkx.github.io/documentation/latest/_downloads/networkx_tutorial.pdf\n",
    "\n",
    "http://networkx.github.io/documentation/latest/_downloads/networkx_reference.pdf\n",
    "\n",
    "HTML in zip file\n",
    "\n",
    "http://networkx.github.io/documentation/latest/_downloads/networkx-documentation.zip"
   ]
  },
  {
   "cell_type": "markdown",
   "metadata": {},
   "source": []
  }
 ],
 "metadata": {
  "kernelspec": {
   "display_name": "Python 2",
   "language": "python",
   "name": "python2"
  },
  "language_info": {
   "codemirror_mode": {
    "name": "ipython",
    "version": 2
   },
   "file_extension": ".py",
   "mimetype": "text/x-python",
   "name": "python",
   "nbconvert_exporter": "python",
   "pygments_lexer": "ipython2",
   "version": "2.7.10"
  }
 },
 "nbformat": 4,
 "nbformat_minor": 0
}
