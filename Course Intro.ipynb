{
 "cells": [
  {
   "cell_type": "markdown",
   "metadata": {},
   "source": []
  },
  {
   "cell_type": "markdown",
   "metadata": {},
   "source": [
    "### Course Introduction\n",
    "\n",
    "- Overivew of networkX\n",
    "- Install networkX module and iPython Notebooks\n",
    "- Create nodes\n",
    "- Add edges to nodes\n",
    "- Getting attributes from a graph\n",
    "- Manipulate your graphs ie.; remove nodes /edges\n",
    "- Create DiGraphs/MultiGraphs/MultiDiGraphs\n",
    "- Graph Generators\n",
    "- Graph metrics ; shortest path/clustering coefficient\n",
    "- Define functions\n",
    "- Visualize graphs\n",
    "- Calculate nodes/degree/centrality metrics\n",
    "- Some random graphs\n",
    "- Small famous graphs\n",
    "- Reading and writing graph files\n",
    "- Social network analysis\n",
    "- Subgraphs\n",
    "- Facebook Social Network Analysis\n",
    "- Conclusions\n",
    "\n",
    "\n"
   ]
  },
  {
   "cell_type": "markdown",
   "metadata": {},
   "source": [
    "## Goals:\n",
    "\n",
    "- At the end of the course students should be able to learn some basics of graph theory\n",
    "- Students should be able to analyze Facebook social networks\n",
    "- Students should take the simple quizzes\n",
    "- Students should know what is directed and undirected graphs\n",
    "- Students should be able to visualize graphs using different graph plots\n",
    "\n",
    "-\n",
    "\n",
    "- You can use to this course to analyze the world\n",
    "- Everything in this world is now connected\n",
    "- Extract useful information from graphs"
   ]
  },
  {
   "cell_type": "markdown",
   "metadata": {},
   "source": [
    "## About me\n",
    "   - Name : Theophilus Siameh\n",
    "   ### Experience:\n",
    "   - I'm a graduate Assistant at East Tennessee State University\n",
    "   - I'm also a SAS Certified Professional \n",
    " \n",
    "   ### Education:\n",
    "   - Bsc . Computer Science and Mathematics\n",
    "   - Msc . Mathematics and Statistics\n",
    "   \n",
    "   ### Teaching :\n",
    "   - I love teaching Graph Theory and Graph Analytics\n",
    "   - I love teaching Big Data Analytics and predictive modeling"
   ]
  },
  {
   "cell_type": "markdown",
   "metadata": {},
   "source": [
    "## Tools\n",
    "\n",
    "- Basic Python programming experiences or related\n",
    "- No Python background required\n",
    "- iPython Notebooks with networkX module installed\n"
   ]
  },
  {
   "cell_type": "markdown",
   "metadata": {},
   "source": [
    "## Who can enroll in this course?\n",
    "\n",
    "- Anyone with love for graphs and social network analytics\n",
    "- No programming experience\n",
    "- Beginners, Intermediate and Advance Levels\n",
    "- Mathematics students\n",
    "- Biology students\n",
    "- Computer Scientist\n",
    "- All fields so long as you have an internet and computer"
   ]
  },
  {
   "cell_type": "code",
   "execution_count": null,
   "metadata": {
    "collapsed": true
   },
   "outputs": [],
   "source": []
  },
  {
   "cell_type": "markdown",
   "metadata": {},
   "source": []
  },
  {
   "cell_type": "markdown",
   "metadata": {},
   "source": [
    "Video tutorial -\n",
    "http://showmedo.com/videotutorials/python"
   ]
  },
  {
   "cell_type": "markdown",
   "metadata": {},
   "source": [
    "Python tutorial - http://docs.python.org/tutorial/"
   ]
  },
  {
   "cell_type": "markdown",
   "metadata": {},
   "source": [
    "Networkx tutorial -\n",
    "http://networkx.lanl.gov/tutorial/index.html\n"
   ]
  },
  {
   "cell_type": "markdown",
   "metadata": {},
   "source": [
    "Matplotlib tutorial -\n",
    "http://matplotlib.sourceforge.net/users/pyplot_tutorial.html\n"
   ]
  },
  {
   "cell_type": "markdown",
   "metadata": {},
   "source": [
    "Python cheatsheet -\n",
    "http://www.ibm.com/developerworks/library/l-cheatsheet"
   ]
  },
  {
   "cell_type": "markdown",
   "metadata": {},
   "source": [
    "https://www.udacity.com/wiki/creating-network-graphs-with-python"
   ]
  },
  {
   "cell_type": "markdown",
   "metadata": {},
   "source": [
    "http://www-rohan.sdsu.edu/~gawron/python_for_ss/course_core/book_draft/Social_Networks/Social_Networks_intro.html"
   ]
  },
  {
   "cell_type": "code",
   "execution_count": null,
   "metadata": {
    "collapsed": true
   },
   "outputs": [],
   "source": []
  }
 ],
 "metadata": {
  "kernelspec": {
   "display_name": "Python 3",
   "language": "python",
   "name": "python3"
  },
  "language_info": {
   "codemirror_mode": {
    "name": "ipython",
    "version": 3
   },
   "file_extension": ".py",
   "mimetype": "text/x-python",
   "name": "python",
   "nbconvert_exporter": "python",
   "pygments_lexer": "ipython3",
   "version": "3.5.0"
  }
 },
 "nbformat": 4,
 "nbformat_minor": 0
}
