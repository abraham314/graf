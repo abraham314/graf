{
 "cells": [
  {
   "cell_type": "markdown",
   "metadata": {},
   "source": [
    "$\\textbf{Overview}$\n",
    "\n",
    "NetworkX is a Python language software package for the \n",
    "- creation, \n",
    "- manipulation,\n",
    "- study of the structure, \n",
    "- dynamics, and \n",
    "- function of complex networks.\n",
    "\n",
    "--\n",
    "- With NetworkX you can load and store networks in standard and nonstandard data formats, \n",
    "- generate many types of random and classic networks, \n",
    "- analyze network structure, \n",
    "- build network models, \n",
    "- design new network algorithms, \n",
    "- draw networks, and much more."
   ]
  },
  {
   "cell_type": "markdown",
   "metadata": {},
   "source": [
    "$\\textbf{Who uses NetworkX}$\n",
    "\n",
    "The potential audience for NetworkX includes \n",
    "- mathematicians, \n",
    "- physicists, \n",
    "- biologists, \n",
    "- computer scientists, and \n",
    "- social scientists. "
   ]
  },
  {
   "cell_type": "markdown",
   "metadata": {},
   "source": [
    "$\\textbf{The Python programming language}$\n",
    "\n",
    "Python is a powerful programming language that allows \n",
    "- simple and flexible representations of networks, and \n",
    "- clear and concise expressions of network algorithms (and other algorithms too). \n",
    "\n",
    "Python has a vibrant and growing ecosystem of packages that NetworkX uses to provide more features such \n",
    "as numerical linear algebra and drawing. \n",
    "\n",
    "- Python is free, well-supported, and a joy to use.\n",
    "\n",
    "- In order to make the most out of NetworkX you will want to know how to write basic programs in Python. \n",
    "\n",
    "- Among the many guides to Python, we recommend the documentation at https://.python.org"
   ]
  },
  {
   "cell_type": "markdown",
   "metadata": {},
   "source": [
    "$\\textbf{Free software}$\n",
    "\n",
    "- NetworkX is free software; \n",
    "- You can redistribute it and/or modify it under the terms of the BSD License. \n",
    "- They welcome contributions from the community. \n",
    "- Information on NetworkX development is found at the NetworkX Developer Zone at Github               https://github.com/networkx/networkx"
   ]
  },
  {
   "cell_type": "code",
   "execution_count": null,
   "metadata": {
    "collapsed": true
   },
   "outputs": [],
   "source": []
  },
  {
   "cell_type": "markdown",
   "metadata": {},
   "source": [
    "$\\textbf{History}$\n",
    "\n",
    "- NetworkX was born in May 2002. \n",
    "- The original version was designed and written by Aric Hagberg, Dan Schult, \n",
    "  and Pieter Swart in 2002 and 2003. \n",
    "- The first public release was in April 2005."
   ]
  },
  {
   "cell_type": "code",
   "execution_count": null,
   "metadata": {
    "collapsed": true
   },
   "outputs": [],
   "source": []
  },
  {
   "cell_type": "markdown",
   "metadata": {},
   "source": [
    "Before you install , you can go to this website to install \n",
    "https://pypi.python.org/pypi/setuptools"
   ]
  },
  {
   "cell_type": "markdown",
   "metadata": {},
   "source": []
  },
  {
   "cell_type": "markdown",
   "metadata": {},
   "source": [
    "### Download Notebooks\n",
    "\n",
    "- Canopy : https://store.enthought.com/downloads/#default\n",
    "\n",
    "- Jupyter : http://jupyter.org\n",
    "\n",
    "- Anaconda : https://www.continuum.io/downloads"
   ]
  },
  {
   "cell_type": "code",
   "execution_count": null,
   "metadata": {
    "collapsed": true
   },
   "outputs": [],
   "source": []
  },
  {
   "cell_type": "markdown",
   "metadata": {},
   "source": [
    "$\\textbf{Quick install}$\n",
    "\n",
    "Get NetworkX from the Python Package Index at http://pypi.python.org/pypi/networkx\n",
    "\n",
    "or install it with\n",
    "\n",
    "$ pip install networkx\n",
    "\n",
    "or go to : http://ipython.org/install.html"
   ]
  },
  {
   "cell_type": "code",
   "execution_count": null,
   "metadata": {
    "collapsed": true
   },
   "outputs": [],
   "source": []
  },
  {
   "cell_type": "markdown",
   "metadata": {},
   "source": []
  },
  {
   "cell_type": "markdown",
   "metadata": {},
   "source": []
  },
  {
   "cell_type": "markdown",
   "metadata": {},
   "source": [
    "NumPy\n",
    "Provides matrix representation of graphs and is used in some graph algorithms for high-performance matrix computations.\n",
    "Download: http://scipy.org/Download\n",
    "\n",
    "SciPy\n",
    "Provides sparse matrix representation of graphs and many numerical scientific tools.\n",
    "Download: http://scipy.org/Download\n",
    "\n",
    "Matplotlib\n",
    "Provides flexible drawing of graphs.\n",
    "Download: http://matplotlib.sourceforge.net/\n",
    "\n",
    "GraphViz\n",
    "In conjunction with either\n",
    "PyGraphviz: http://pygraphviz.github.io/\n",
    "\n",
    "pydot: http://code.google.com/p/pydot/\n",
    "provides graph drawing and graph layout algorithms.\n",
    "Download: http://graphviz.org/\n",
    "\n",
    "PyYAML\n",
    "http://pyyaml.org/\n",
    "\n",
    "Required for YAML format reading and writing."
   ]
  },
  {
   "cell_type": "code",
   "execution_count": null,
   "metadata": {
    "collapsed": true
   },
   "outputs": [],
   "source": []
  },
  {
   "cell_type": "markdown",
   "metadata": {},
   "source": [
    "Creating a graph\n",
    "\t-\tNodes \n",
    "\t-\tEdges \n",
    "\t-\tWhat to use as nodes and edges \n",
    "\t-\tAccessing edges \n",
    "\t-\tAdding attributes to graphs, nodes, and edges \n",
    "\t-\t    Graph attributes \n",
    "\t-\t    Node attributes \n",
    "\t-\t    Edge Attributes \n",
    "\t-\tDirected graphs \n",
    "\t-\tMultigraphs \n",
    "\t-\tGraph generators and graph operations \n",
    "\t-\tAnalyzing graphs \n",
    "\t-\tDrawing graphs \n"
   ]
  },
  {
   "cell_type": "code",
   "execution_count": null,
   "metadata": {
    "collapsed": true
   },
   "outputs": [],
   "source": []
  },
  {
   "cell_type": "markdown",
   "metadata": {},
   "source": []
  },
  {
   "cell_type": "code",
   "execution_count": null,
   "metadata": {
    "collapsed": true
   },
   "outputs": [],
   "source": []
  },
  {
   "cell_type": "markdown",
   "metadata": {},
   "source": [
    "http://www.scipy-lectures.org/advanced/3d_plotting/index.html"
   ]
  },
  {
   "cell_type": "code",
   "execution_count": null,
   "metadata": {
    "collapsed": false
   },
   "outputs": [],
   "source": []
  }
 ],
 "metadata": {
  "kernelspec": {
   "display_name": "Python 3",
   "language": "python",
   "name": "python3"
  },
  "language_info": {
   "codemirror_mode": {
    "name": "ipython",
    "version": 3
   },
   "file_extension": ".py",
   "mimetype": "text/x-python",
   "name": "python",
   "nbconvert_exporter": "python",
   "pygments_lexer": "ipython3",
   "version": "3.5.0"
  }
 },
 "nbformat": 4,
 "nbformat_minor": 0
}
