{
 "cells": [
  {
   "cell_type": "markdown",
   "metadata": {},
   "source": [
    "$\\textbf{Overview}$\n",
    "\n",
    "NetworkX is a Python language software package for the creation, manipulation, and study of the structure, dynamics, and function of complex networks.\n",
    "\n",
    "With NetworkX you can load and store networks in standard and nonstandard data formats, generate many types of random and classic networks, analyze network structure, build network models, design new network algorithms, draw networks, and much more."
   ]
  },
  {
   "cell_type": "markdown",
   "metadata": {},
   "source": [
    "$\\textbf{Who uses NetworkX}$\n",
    "\n",
    "The potential audience for NetworkX includes mathematicians, physicists, biologists, computer scientists, and social scientists. "
   ]
  },
  {
   "cell_type": "markdown",
   "metadata": {},
   "source": [
    "$\\textbf{The Python programming language}$\n",
    "\n",
    "Python is a powerful programming language that allows simple and flexible representations of networks, and clear and \n",
    "concise expressions of network algorithms (and other algorithms too). \n",
    "Python has a vibrant and growing ecosystem of packages that NetworkX uses to provide more features such \n",
    "as numerical linear algebra and drawing. \n",
    "\n",
    "Equally important, Python is free, well-supported, and a joy to use.\n",
    "\n",
    "In order to make the most out of NetworkX you will want to know how to write basic programs in Python. \n",
    "Among the many guides to Python, we recommend the documentation at ${www.python.org} $"
   ]
  },
  {
   "cell_type": "markdown",
   "metadata": {},
   "source": [
    "$\\textbf{Free software}$\n",
    "NetworkX is free software; you can redistribute it and/or modify it under the terms of the BSD License. We welcome contributions from the community. Information on NetworkX development is found at the NetworkX Developer Zone at Github https://github.com/networkx/networkx"
   ]
  },
  {
   "cell_type": "code",
   "execution_count": null,
   "metadata": {
    "collapsed": true
   },
   "outputs": [],
   "source": []
  },
  {
   "cell_type": "markdown",
   "metadata": {},
   "source": [
    "$\\textbf{History}$\n",
    "NetworkX was born in May 2002. The original version was designed and written by Aric Hagberg, Dan Schult, \n",
    "and Pieter Swart in 2002 and 2003. The first public release was in April 2005."
   ]
  },
  {
   "cell_type": "markdown",
   "metadata": {},
   "source": [
    "Before you install , you can go to this website to install \n",
    "https://pypi.python.org/pypi/setuptools"
   ]
  },
  {
   "cell_type": "markdown",
   "metadata": {},
   "source": []
  },
  {
   "cell_type": "markdown",
   "metadata": {},
   "source": [
    "$\\textbf{Quick install}$\n",
    "\n",
    "Get NetworkX from the Python Package Index at http://pypi.python.org/pypi/networkx\n",
    "\n",
    "or install it with\n",
    "\n",
    "pip install networkx"
   ]
  },
  {
   "cell_type": "markdown",
   "metadata": {},
   "source": [
    "Or you can go this website to download Canopy : https://store.enthought.com/downloads/#default"
   ]
  },
  {
   "cell_type": "markdown",
   "metadata": {},
   "source": []
  },
  {
   "cell_type": "markdown",
   "metadata": {},
   "source": [
    "NumPy\n",
    "Provides matrix representation of graphs and is used in some graph algorithms for high-performance matrix computations.\n",
    "\n",
    "Download: http://scipy.org/Download\n",
    "SciPy\n",
    "Provides sparse matrix representation of graphs and many numerical scientific tools.\n",
    "\n",
    "Download: http://scipy.org/Download\n",
    "Matplotlib\n",
    "Provides flexible drawing of graphs.\n",
    "\n",
    "Download: http://matplotlib.sourceforge.net/\n",
    "GraphViz\n",
    "In conjunction with either\n",
    "\n",
    "PyGraphviz: http://pygraphviz.github.io/\n",
    "or\n",
    "\n",
    "pydot: http://code.google.com/p/pydot/\n",
    "provides graph drawing and graph layout algorithms.\n",
    "\n",
    "Download: http://graphviz.org/\n",
    "PyYAML\n",
    "http://pyyaml.org/\n",
    "\n",
    "Required for YAML format reading and writing."
   ]
  },
  {
   "cell_type": "code",
   "execution_count": null,
   "metadata": {
    "collapsed": true
   },
   "outputs": [],
   "source": []
  },
  {
   "cell_type": "markdown",
   "metadata": {},
   "source": [
    "Creating a graph\n",
    "\t•\tNodes $\\\\$\n",
    "\t•\tEdges $\\\\$\n",
    "\t•\tWhat to use as nodes and edges $\\\\$\n",
    "\t•\tAccessing edges $\\\\$\n",
    "\t•\tAdding attributes to graphs, nodes, and edges $\\\\$\n",
    "\t•\t    Graph attributes $\\\\$\n",
    "\t•\t    Node attributes $\\\\$\n",
    "\t•\t    Edge Attributes $\\\\$\n",
    "\t•\tDirected graphs $\\\\$\n",
    "\t•\tMultigraphs $\\\\$\n",
    "\t•\tGraph generators and graph operations $\\\\$\n",
    "\t•\tAnalyzing graphs $\\\\$\n",
    "\t•\tDrawing graphs $\\\\$\n"
   ]
  },
  {
   "cell_type": "code",
   "execution_count": null,
   "metadata": {
    "collapsed": true
   },
   "outputs": [],
   "source": []
  },
  {
   "cell_type": "markdown",
   "metadata": {},
   "source": [
    "By definition, a Graph is a collection of nodes (vertices) along with identified pairs of nodes (called edges, links, etc). In NetworkX, nodes can be any hashable object e.g. a text string, an image, an XML object, another Graph, a customized node object, etc. (Note: Python’s None object should not be used as a node as it determines whether optional function arguments have been assigned in many functions.)"
   ]
  },
  {
   "cell_type": "code",
   "execution_count": null,
   "metadata": {
    "collapsed": true
   },
   "outputs": [],
   "source": []
  },
  {
   "cell_type": "code",
   "execution_count": null,
   "metadata": {
    "collapsed": true
   },
   "outputs": [],
   "source": []
  }
 ],
 "metadata": {
  "kernelspec": {
   "display_name": "Python 2",
   "language": "python",
   "name": "python2"
  },
  "language_info": {
   "codemirror_mode": {
    "name": "ipython",
    "version": 2
   },
   "file_extension": ".py",
   "mimetype": "text/x-python",
   "name": "python",
   "nbconvert_exporter": "python",
   "pygments_lexer": "ipython2",
   "version": "2.7.10"
  }
 },
 "nbformat": 4,
 "nbformat_minor": 0
}
