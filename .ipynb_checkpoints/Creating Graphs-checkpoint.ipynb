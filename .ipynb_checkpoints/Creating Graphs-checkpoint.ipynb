{
 "cells": [
  {
   "cell_type": "markdown",
   "metadata": {},
   "source": [
    "Creating a graph\n",
    "Create an empty graph with no nodes and no edges."
   ]
  },
  {
   "cell_type": "code",
   "execution_count": 1,
   "metadata": {
    "collapsed": true
   },
   "outputs": [],
   "source": [
    "import networkx as nx\n",
    "G=nx.Graph()"
   ]
  },
  {
   "cell_type": "markdown",
   "metadata": {},
   "source": [
    "$\\textbf{Nodes}$\n",
    "The graph G can be grown in several ways. NetworkX includes many graph generator functions and facilities to read and write graphs in many formats. To get started though we’ll look at simple manipulations. You can add one node at a time,"
   ]
  },
  {
   "cell_type": "code",
   "execution_count": 4,
   "metadata": {
    "collapsed": true
   },
   "outputs": [],
   "source": [
    "G.add_node(1) #adding a node"
   ]
  },
  {
   "cell_type": "code",
   "execution_count": 5,
   "metadata": {
    "collapsed": true
   },
   "outputs": [],
   "source": [
    "G.add_nodes_from([2,3]) #adding list of nodes"
   ]
  },
  {
   "cell_type": "markdown",
   "metadata": {},
   "source": [
    "$\\textbf{Edges}$\n",
    "G can also be grown by adding one edge at a time,"
   ]
  },
  {
   "cell_type": "code",
   "execution_count": 6,
   "metadata": {
    "collapsed": true
   },
   "outputs": [],
   "source": [
    "G.add_edge(1,2) #adding edges\n",
    "e=(2,3)\n",
    "G.add_edge(*e) # unpack edge tuple*\n",
    "\n",
    "\n",
    "G.add_edges_from([(1,2),(1,3)]) #by adding a list of edges,"
   ]
  },
  {
   "cell_type": "code",
   "execution_count": 7,
   "metadata": {
    "collapsed": false
   },
   "outputs": [
    {
     "data": {
      "text/plain": [
       "3"
      ]
     },
     "execution_count": 7,
     "metadata": {},
     "output_type": "execute_result"
    }
   ],
   "source": [
    "G.number_of_nodes() #getting nodes\n",
    "G.number_of_edges()#getting edges\n"
   ]
  },
  {
   "cell_type": "code",
   "execution_count": 8,
   "metadata": {
    "collapsed": false
   },
   "outputs": [
    {
     "data": {
      "text/plain": [
       "[2, 3]"
      ]
     },
     "execution_count": 8,
     "metadata": {},
     "output_type": "execute_result"
    }
   ],
   "source": [
    "G.nodes()\n",
    "G.edges()\n",
    "G.neighbors(1)\n"
   ]
  },
  {
   "cell_type": "code",
   "execution_count": null,
   "metadata": {
    "collapsed": true
   },
   "outputs": [],
   "source": [
    "G.remove_nodes_from(\"spam\")\n",
    "G.nodes()\n",
    "G.remove_edge(1,3)"
   ]
  },
  {
   "cell_type": "code",
   "execution_count": null,
   "metadata": {
    "collapsed": true
   },
   "outputs": [],
   "source": [
    "H=nx.DiGraph(G)   # create a DiGraph using the connections from G\n",
    "H.edges()\n",
    "edgelist=[(0,1),(1,2),(2,3)]\n",
    "H=nx.Graph(edgelist)"
   ]
  },
  {
   "cell_type": "code",
   "execution_count": null,
   "metadata": {
    "collapsed": true
   },
   "outputs": [],
   "source": [
    "#Graph attributes\n",
    "#Assign graph attributes when creating a new graph\n",
    "\n",
    "G = nx.Graph(day=\"Friday\")\n",
    "G.graph"
   ]
  },
  {
   "cell_type": "code",
   "execution_count": null,
   "metadata": {
    "collapsed": true
   },
   "outputs": [],
   "source": [
    "#Or you can modify attributes later\n",
    "\n",
    "G.graph['day']='Monday'\n",
    "G.graph\n",
    "#{'day': 'Monday'}"
   ]
  },
  {
   "cell_type": "code",
   "execution_count": null,
   "metadata": {
    "collapsed": true
   },
   "outputs": [],
   "source": [
    "#Edge Attributes\n",
    "#Add edge attributes using add_edge(), add_edges_from(), subscript notation, or G.edge.\n",
    "\n",
    "G.add_edge(1, 2, weight=4.7 )\n",
    "G.add_edges_from([(3,4),(4,5)], color='red')\n",
    "G.add_edges_from([(1,2,{'color':'blue'}), (2,3,{'weight':8})])\n",
    "G[1][2]['weight'] = 4.7\n",
    "G.edge[1][2]['weight'] = 4"
   ]
  },
  {
   "cell_type": "code",
   "execution_count": null,
   "metadata": {
    "collapsed": true
   },
   "outputs": [],
   "source": [
    "#Directed graphs\n",
    "#The DiGraph class provides additional methods specific to directed edges, \n",
    "#e.g. DiGraph.out_edges(), DiGraph.in_degree(), DiGraph.predecessors(), DiGraph.successors() \n",
    "#etc. To allow algorithms to work with both classes easily, the directed versions of neighbors() \n",
    "#and degree() are equivalent to successors() and the sum of in_degree() and out_degree() \n",
    "#respectively even though that may feel inconsistent at times.\n",
    "\n",
    "DG=nx.DiGraph()\n",
    "DG.add_weighted_edges_from([(1,2,0.5), (3,1,0.75)])\n",
    "DG.out_degree(1,weight='weight')\n",
    "DG.degree(1,weight='weight')\n",
    "DG.successors(1)\n",
    "DG.neighbors(1)"
   ]
  },
  {
   "cell_type": "code",
   "execution_count": null,
   "metadata": {
    "collapsed": true
   },
   "outputs": [],
   "source": []
  }
 ],
 "metadata": {
  "kernelspec": {
   "display_name": "Python 2",
   "language": "python",
   "name": "python2"
  },
  "language_info": {
   "codemirror_mode": {
    "name": "ipython",
    "version": 2
   },
   "file_extension": ".py",
   "mimetype": "text/x-python",
   "name": "python",
   "nbconvert_exporter": "python",
   "pygments_lexer": "ipython2",
   "version": "2.7.10"
  }
 },
 "nbformat": 4,
 "nbformat_minor": 0
}
