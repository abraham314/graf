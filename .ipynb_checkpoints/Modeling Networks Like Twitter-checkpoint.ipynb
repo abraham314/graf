{
 "cells": [
  {
   "cell_type": "markdown",
   "metadata": {},
   "source": [
    "## Modeling Networks"
   ]
  },
  {
   "cell_type": "markdown",
   "metadata": {},
   "source": [
    "### Intro to the Twitter API"
   ]
  },
  {
   "cell_type": "markdown",
   "metadata": {},
   "source": [
    "In order to use the Twitter API, you'll need:\n",
    "\n",
    "* import oauth2 (pip install oauth2)\n",
    "* A twitter account\n",
    "* Twitter Consumer/Access tokens\n",
    "\n",
    "\n",
    "## Creating your Twitter Consumer/Access Tokens\n",
    "\n",
    "1) Go to https://apps.twitter.com/ and click **\"Create New App\"**\n",
    "\n",
    "* Twitter assumes you're making tokens for an app, so let's make a dummy app.\n",
    " \n",
    "2) Fill out **Name, Description and Website**:\n",
    "\n",
    "* For **Website**, I just put my github/twitter link\n",
    "* I left **Callback URL** empty\n",
    "* Click **\"Create your Twitter Application\"**\n",
    "\n",
    "3) Under **Application Settings**, set **Access level** to Read-only:\n",
    "\n",
    "* You don't _have_ to do this, but it's good practice.\n",
    "\n",
    "4) Notice that we're in the **Details** tab. Click on the **Keys and Access Tokens** tab:\n",
    "\n",
    "* You'll see **Consumer Key (API Key)** and **Consumer Secret (API Secret)**. We'll copy those in a second.\n",
    "\n",
    "5) Scroll to the bottom of the page and click the **\"Create my access token\"** button (under **Your Access Token > Token Actions**)\n",
    "\n",
    "Keep this page open - we'll paste these values into a config file."
   ]
  },
  {
   "cell_type": "markdown",
   "metadata": {},
   "source": [
    "## Adding your Twitter API tokens into config.json\n",
    "\n",
    "Using a text editor, open **networkx-tutorial/materials/config.json**, and paste your keys for the following:\n",
    "\n",
    "* **CONSUMER_KEY** - replace **\"[Consumer Key (API Key)]\"** with your value for **\"Consumer Key (API Key)\"**\n",
    "* **CONSUMER_SECRET**\n",
    "* **ACCESS_TOKEN**\n",
    "* **ACCESS_SECRET**\n",
    "\n",
    "<img src=\"twitter-tokens.png\" style=\"float:left\" />\n",
    "\n"
   ]
  },
  {
   "cell_type": "markdown",
   "metadata": {},
   "source": [
    "# Connecting to the Twitter API\n",
    "\n",
    "Now we're ready to use the Twitter API!"
   ]
  },
  {
   "cell_type": "code",
   "execution_count": 68,
   "metadata": {
    "collapsed": false
   },
   "outputs": [
    {
     "data": {
      "text/plain": [
       "<oauth2.Client at 0x105483080>"
      ]
     },
     "execution_count": 68,
     "metadata": {},
     "output_type": "execute_result"
    }
   ],
   "source": [
    "import oauth2 as oauth\n",
    "import json\n",
    "\n",
    "with open('config.json') as f:\n",
    "    tokens = json.loads(f.read())\n",
    "\n",
    "consumer = oauth.Consumer(key=tokens['CONSUMER_KEY'], secret=tokens['CONSUMER_SECRET'])\n",
    "token = oauth.Token(key=tokens['ACCESS_TOKEN'], secret=tokens['ACCESS_SECRET'])\n",
    "\n",
    "client = oauth.Client(consumer, token)\n",
    "\n",
    "# TODO: run this... should get an <OAuth2.Client> object connecting to Twitter's API\n",
    "client"
   ]
  },
  {
   "cell_type": "markdown",
   "metadata": {},
   "source": [
    "### Twitter's REST APIs\n",
    "\n",
    "Twitter has a rich set of API calls (full list is listed at https://dev.twitter.com/rest/public). Today we'll be using these:\n",
    "\n",
    "* [GET friends/list](https://dev.twitter.com/rest/reference/get/friends/list) - who is user X is following?\n",
    "* [GET followers/list](https://dev.twitter.com/rest/reference/get/followers/list) - who follows user X?\n",
    "\n"
   ]
  },
  {
   "cell_type": "markdown",
   "metadata": {},
   "source": [
    "### GET followers/list: let's find out who follows you!\n",
    "\n",
    "You'll see from the [GET followers/list](https://dev.twitter.com/rest/reference/get/followers/list) documentation that the URL to get the list of followers is:\n",
    "\n",
    "    https://api.twitter.com/1.1/followers/list.json?screen_name=[screen_name]\n",
    "    \n",
    "Which returns:\n",
    "\n",
    "1) A response body\n",
    "\n",
    "* JSON representing the data we requested\n",
    "\n",
    "2) A response header\n",
    "\n",
    "* There's a lot of stuff here, but one param to note are the **HTTP Response Codes**, which will tell you if the request was successful. Or if not, why. The ones you should note are:\n",
    "\n",
    "* **200** - **STATUS_OKAY** - <font color=\"#009900\">Success :) </font>. This is what you want.\n",
    "* **429** - **RATE_LIMIT_EXCEEDED**. <font color=\"#990000\">Uh-oh, slow it down :/</font>. Twitter limits how frequently you can make requests, and you've exceeded it.\n",
    "* **401** - **UNAUTHORIZED_USER**. Twitter isn't accepting your Consumer/Access tokens. Verify tokens were pasted correctly, or try generating new tokens.\n",
    "\n",
    "&nbsp;\n",
    " \n",
    "Now that we know what to expect, let's try it!"
   ]
  },
  {
   "cell_type": "code",
   "execution_count": 69,
   "metadata": {
    "collapsed": false
   },
   "outputs": [],
   "source": [
    "import json\n",
    "\n",
    "FOLLOWERS_URL = 'https://api.twitter.com/1.1/followers/list.json'\n",
    "\n",
    "#  TODO: put your twitter handle here\n",
    "screen_name = 'donwan2011'\n",
    "\n",
    "\n",
    "url = FOLLOWERS_URL + '?screen_name=' + screen_name\n",
    "header, response = client.request(url, method='GET')\n",
    "\n",
    "\n",
    "# let's save the whole response so you can take a look at it\n",
    "#with open('my_followers.json', 'w') as f:\n",
    "#    json.dump(json.loads(response), f, indent=2)\n",
    "    "
   ]
  },
  {
   "cell_type": "code",
   "execution_count": 70,
   "metadata": {
    "collapsed": false
   },
   "outputs": [
    {
     "name": "stdout",
     "output_type": "stream",
     "text": [
      "status: 200\n",
      "b'{\"users\":[{\"id\":336519357,\"id_str\":\"336519357\",\"name\":\"StepheTsatsu Anyigba\",\"screen_name\":\"Kadinale\",\"location\":\"Ghana\",\"description\":\"Gentleman, loves choral music and investments. Also into health '\n"
     ]
    }
   ],
   "source": [
    "print('status:',header['status']) \n",
    "               \n",
    "# should be 200 (STATUS_OKAY)\n",
    "print (response[:200]) # a lot of data!"
   ]
  },
  {
   "cell_type": "markdown",
   "metadata": {
    "collapsed": true
   },
   "source": [
    "#### Extracting data from JSON result\n",
    "\n",
    "'my_followers.json' will look like the example below. Let's extract the values in <font color=\"#AA0000\">RED</font>:\n",
    "\n",
    "<pre><code>\n",
    "{\n",
    "  \"previous_cursor\": 0, \n",
    "  \"previous_cursor_str\": \"0\", \n",
    "  <font color=\"#AA0000\">\"next_cursor\": 1496386282559075381</font>,  <font color=\"#0099aa\"># use next_cursor to get the next page of results</font>\n",
    "  <font color=\"#AA0000\">\"users\": [</font>\n",
    "    {\n",
    "      ...\n",
    "      <font color=\"#AA0000\">\"screen_name\": \"celiala\"</font>,  <font color=\"#0099aa\"># follower 1</font>\n",
    "      ...\n",
    "    }, \n",
    "    {\n",
    "      ...\n",
    "      <font color=\"#AA0000\">\"screen_name\": \"sarah_guido\"</font>,  <font color=\"#0099aa\"># follower 2</font>\n",
    "      ...\n",
    "    }\n",
    "  <font color=\"#AA0000\">],</font>\n",
    "  ...\n",
    "}\n",
    "</code></pre>\n",
    "\n",
    "Let's extract **next_cursor** and the list of **followers**:"
   ]
  },
  {
   "cell_type": "code",
   "execution_count": 76,
   "metadata": {
    "collapsed": false
   },
   "outputs": [
    {
     "ename": "JSONDecodeError",
     "evalue": "Expecting value: line 1 column 1 (char 0)",
     "output_type": "error",
     "traceback": [
      "\u001b[0;31m---------------------------------------------------------------------------\u001b[0m",
      "\u001b[0;31mJSONDecodeError\u001b[0m                           Traceback (most recent call last)",
      "\u001b[0;32m<ipython-input-76-cd1eb3333c6d>\u001b[0m in \u001b[0;36m<module>\u001b[0;34m()\u001b[0m\n\u001b[0;32m----> 1\u001b[0;31m \u001b[0mdata\u001b[0m \u001b[0;34m=\u001b[0m \u001b[0mjson\u001b[0m\u001b[0;34m.\u001b[0m\u001b[0mloads\u001b[0m\u001b[0;34m(\u001b[0m\u001b[0mstr\u001b[0m\u001b[0;34m(\u001b[0m\u001b[0mresponse\u001b[0m\u001b[0;34m)\u001b[0m\u001b[0;34m)\u001b[0m \u001b[0;31m# convert JSON string into a dictionary object\u001b[0m\u001b[0;34m\u001b[0m\u001b[0m\n\u001b[0m\u001b[1;32m      2\u001b[0m \u001b[0;34m\u001b[0m\u001b[0m\n\u001b[1;32m      3\u001b[0m \u001b[0mnext_cursor\u001b[0m \u001b[0;34m=\u001b[0m \u001b[0mdata\u001b[0m\u001b[0;34m[\u001b[0m\u001b[0;34m'next_cursor'\u001b[0m\u001b[0;34m]\u001b[0m\u001b[0;34m\u001b[0m\u001b[0m\n\u001b[1;32m      4\u001b[0m \u001b[0mfollowers\u001b[0m \u001b[0;34m=\u001b[0m \u001b[0;34m[\u001b[0m\u001b[0mu\u001b[0m\u001b[0;34m[\u001b[0m\u001b[0;34m'screen_name'\u001b[0m\u001b[0;34m]\u001b[0m \u001b[0;32mfor\u001b[0m \u001b[0mu\u001b[0m \u001b[0;32min\u001b[0m \u001b[0mdata\u001b[0m\u001b[0;34m[\u001b[0m\u001b[0;34m'users'\u001b[0m\u001b[0;34m]\u001b[0m\u001b[0;34m]\u001b[0m\u001b[0;34m\u001b[0m\u001b[0m\n\u001b[1;32m      5\u001b[0m \u001b[0;34m\u001b[0m\u001b[0m\n",
      "\u001b[0;32m/Users/theophilus/anaconda/lib/python3.5/json/__init__.py\u001b[0m in \u001b[0;36mloads\u001b[0;34m(s, encoding, cls, object_hook, parse_float, parse_int, parse_constant, object_pairs_hook, **kw)\u001b[0m\n\u001b[1;32m    317\u001b[0m             \u001b[0mparse_int\u001b[0m \u001b[0;32mis\u001b[0m \u001b[0;32mNone\u001b[0m \u001b[0;32mand\u001b[0m \u001b[0mparse_float\u001b[0m \u001b[0;32mis\u001b[0m \u001b[0;32mNone\u001b[0m \u001b[0;32mand\u001b[0m\u001b[0;34m\u001b[0m\u001b[0m\n\u001b[1;32m    318\u001b[0m             parse_constant is None and object_pairs_hook is None and not kw):\n\u001b[0;32m--> 319\u001b[0;31m         \u001b[0;32mreturn\u001b[0m \u001b[0m_default_decoder\u001b[0m\u001b[0;34m.\u001b[0m\u001b[0mdecode\u001b[0m\u001b[0;34m(\u001b[0m\u001b[0ms\u001b[0m\u001b[0;34m)\u001b[0m\u001b[0;34m\u001b[0m\u001b[0m\n\u001b[0m\u001b[1;32m    320\u001b[0m     \u001b[0;32mif\u001b[0m \u001b[0mcls\u001b[0m \u001b[0;32mis\u001b[0m \u001b[0;32mNone\u001b[0m\u001b[0;34m:\u001b[0m\u001b[0;34m\u001b[0m\u001b[0m\n\u001b[1;32m    321\u001b[0m         \u001b[0mcls\u001b[0m \u001b[0;34m=\u001b[0m \u001b[0mJSONDecoder\u001b[0m\u001b[0;34m\u001b[0m\u001b[0m\n",
      "\u001b[0;32m/Users/theophilus/anaconda/lib/python3.5/json/decoder.py\u001b[0m in \u001b[0;36mdecode\u001b[0;34m(self, s, _w)\u001b[0m\n\u001b[1;32m    337\u001b[0m \u001b[0;34m\u001b[0m\u001b[0m\n\u001b[1;32m    338\u001b[0m         \"\"\"\n\u001b[0;32m--> 339\u001b[0;31m         \u001b[0mobj\u001b[0m\u001b[0;34m,\u001b[0m \u001b[0mend\u001b[0m \u001b[0;34m=\u001b[0m \u001b[0mself\u001b[0m\u001b[0;34m.\u001b[0m\u001b[0mraw_decode\u001b[0m\u001b[0;34m(\u001b[0m\u001b[0ms\u001b[0m\u001b[0;34m,\u001b[0m \u001b[0midx\u001b[0m\u001b[0;34m=\u001b[0m\u001b[0m_w\u001b[0m\u001b[0;34m(\u001b[0m\u001b[0ms\u001b[0m\u001b[0;34m,\u001b[0m \u001b[0;36m0\u001b[0m\u001b[0;34m)\u001b[0m\u001b[0;34m.\u001b[0m\u001b[0mend\u001b[0m\u001b[0;34m(\u001b[0m\u001b[0;34m)\u001b[0m\u001b[0;34m)\u001b[0m\u001b[0;34m\u001b[0m\u001b[0m\n\u001b[0m\u001b[1;32m    340\u001b[0m         \u001b[0mend\u001b[0m \u001b[0;34m=\u001b[0m \u001b[0m_w\u001b[0m\u001b[0;34m(\u001b[0m\u001b[0ms\u001b[0m\u001b[0;34m,\u001b[0m \u001b[0mend\u001b[0m\u001b[0;34m)\u001b[0m\u001b[0;34m.\u001b[0m\u001b[0mend\u001b[0m\u001b[0;34m(\u001b[0m\u001b[0;34m)\u001b[0m\u001b[0;34m\u001b[0m\u001b[0m\n\u001b[1;32m    341\u001b[0m         \u001b[0;32mif\u001b[0m \u001b[0mend\u001b[0m \u001b[0;34m!=\u001b[0m \u001b[0mlen\u001b[0m\u001b[0;34m(\u001b[0m\u001b[0ms\u001b[0m\u001b[0;34m)\u001b[0m\u001b[0;34m:\u001b[0m\u001b[0;34m\u001b[0m\u001b[0m\n",
      "\u001b[0;32m/Users/theophilus/anaconda/lib/python3.5/json/decoder.py\u001b[0m in \u001b[0;36mraw_decode\u001b[0;34m(self, s, idx)\u001b[0m\n\u001b[1;32m    355\u001b[0m             \u001b[0mobj\u001b[0m\u001b[0;34m,\u001b[0m \u001b[0mend\u001b[0m \u001b[0;34m=\u001b[0m \u001b[0mself\u001b[0m\u001b[0;34m.\u001b[0m\u001b[0mscan_once\u001b[0m\u001b[0;34m(\u001b[0m\u001b[0ms\u001b[0m\u001b[0;34m,\u001b[0m \u001b[0midx\u001b[0m\u001b[0;34m)\u001b[0m\u001b[0;34m\u001b[0m\u001b[0m\n\u001b[1;32m    356\u001b[0m         \u001b[0;32mexcept\u001b[0m \u001b[0mStopIteration\u001b[0m \u001b[0;32mas\u001b[0m \u001b[0merr\u001b[0m\u001b[0;34m:\u001b[0m\u001b[0;34m\u001b[0m\u001b[0m\n\u001b[0;32m--> 357\u001b[0;31m             \u001b[0;32mraise\u001b[0m \u001b[0mJSONDecodeError\u001b[0m\u001b[0;34m(\u001b[0m\u001b[0;34m\"Expecting value\"\u001b[0m\u001b[0;34m,\u001b[0m \u001b[0ms\u001b[0m\u001b[0;34m,\u001b[0m \u001b[0merr\u001b[0m\u001b[0;34m.\u001b[0m\u001b[0mvalue\u001b[0m\u001b[0;34m)\u001b[0m \u001b[0;32mfrom\u001b[0m \u001b[0;32mNone\u001b[0m\u001b[0;34m\u001b[0m\u001b[0m\n\u001b[0m\u001b[1;32m    358\u001b[0m         \u001b[0;32mreturn\u001b[0m \u001b[0mobj\u001b[0m\u001b[0;34m,\u001b[0m \u001b[0mend\u001b[0m\u001b[0;34m\u001b[0m\u001b[0m\n",
      "\u001b[0;31mJSONDecodeError\u001b[0m: Expecting value: line 1 column 1 (char 0)"
     ]
    }
   ],
   "source": [
    "data = json.loads(str(response),) # convert JSON string into a dictionary object\n",
    "\n",
    "next_cursor = data['next_cursor']\n",
    "followers = [u['screen_name'] for u in data['users']]\n",
    "\n",
    "# TODO: run this block to see what's in next_cursor and followers:\n",
    "print ('next_cursor:', next_cursor)\n",
    "print (len(followers), 'followers so far:', followers)"
   ]
  },
  {
   "cell_type": "code",
   "execution_count": null,
   "metadata": {
    "collapsed": true
   },
   "outputs": [],
   "source": []
  },
  {
   "cell_type": "code",
   "execution_count": null,
   "metadata": {
    "collapsed": true
   },
   "outputs": [],
   "source": []
  },
  {
   "cell_type": "code",
   "execution_count": null,
   "metadata": {
    "collapsed": true
   },
   "outputs": [],
   "source": []
  },
  {
   "cell_type": "code",
   "execution_count": null,
   "metadata": {
    "collapsed": true
   },
   "outputs": [],
   "source": []
  }
 ],
 "metadata": {
  "kernelspec": {
   "display_name": "Python 3",
   "language": "python",
   "name": "python3"
  },
  "language_info": {
   "codemirror_mode": {
    "name": "ipython",
    "version": 3
   },
   "file_extension": ".py",
   "mimetype": "text/x-python",
   "name": "python",
   "nbconvert_exporter": "python",
   "pygments_lexer": "ipython3",
   "version": "3.5.0"
  }
 },
 "nbformat": 4,
 "nbformat_minor": 0
}
