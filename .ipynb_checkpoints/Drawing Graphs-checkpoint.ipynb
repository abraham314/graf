{
 "cells": [
  {
   "cell_type": "code",
   "execution_count": null,
   "metadata": {
    "collapsed": false
   },
   "outputs": [],
   "source": [
    "#Drawing graphs\n",
    "#NetworkX is not primarily a graph drawing package but basic drawing with Matplotlib as well as an interface to use the open source Graphviz software package are included. These are part of the networkx.drawing package and will be imported if possible. See Drawing for details.\n",
    "\n",
    "#Note that the drawing package in NetworkX is not yet compatible with Python versions 3.0 and above.\n",
    "\n",
    "#First import Matplotlib’s plot interface (pylab works too)\n",
    "\n",
    "import matplotlib.pyplot as plt\n",
    "import networkx as nx\n",
    "#You may find it useful to interactively test code using “ipython -pylab”, which combines the power of ipython and matplotlib and provides a convenient interactive mode.\n",
    "\n",
    "#To test if the import of networkx.drawing was successful draw G using one of\n",
    "\n",
    "G = nx.Graph()\n",
    "nx.draw(G)\n",
    "nx.draw_random(G)\n",
    "nx.draw_circular(G)\n",
    "nx.draw_spectral(G)\n",
    "#when drawing to an interactive display. Note that you may need to issue a Matplotlib\n",
    "\n",
    "plt.show()\n",
    "#command if you are not using matplotlib in interactive mode: (See Matplotlib FAQ )\n",
    "\n"
   ]
  },
  {
   "cell_type": "code",
   "execution_count": null,
   "metadata": {
    "collapsed": true
   },
   "outputs": [],
   "source": [
    "#To save drawings to a file, use, for example\n",
    "\n",
    "#>>> nx.draw(G)\n",
    "#>>> plt.savefig(\"path.png\")\n",
    "#writes to the file “path.png” in the local directory. If Graphviz and PyGraphviz, or pydot, are available on your system, you can also use\n",
    "\n",
    "#>>> nx.draw_graphviz(G)\n",
    "#>>> nx.write_dot(G,'file.dot')"
   ]
  }
 ],
 "metadata": {
  "kernelspec": {
   "display_name": "Python 3",
   "language": "python",
   "name": "python3"
  },
  "language_info": {
   "codemirror_mode": {
    "name": "ipython",
    "version": 3
   },
   "file_extension": ".py",
   "mimetype": "text/x-python",
   "name": "python",
   "nbconvert_exporter": "python",
   "pygments_lexer": "ipython3",
   "version": "3.5.0"
  }
 },
 "nbformat": 4,
 "nbformat_minor": 0
}
