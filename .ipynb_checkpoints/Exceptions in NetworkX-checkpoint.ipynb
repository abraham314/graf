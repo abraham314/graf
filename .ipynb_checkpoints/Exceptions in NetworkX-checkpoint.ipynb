{
 "cells": [
  {
   "cell_type": "markdown",
   "metadata": {},
   "source": [
    "### Exceptions\n",
    "\n",
    "Base exceptions and errors for NetworkX.\n",
    "\n",
    "### -class NetworkXException[source]\n",
    "Base class for exceptions in NetworkX.\n",
    "\n",
    "### -class NetworkXError[source]\n",
    "Exception for a serious error in NetworkX\n",
    "\n",
    "### -class NetworkXPointlessConcept[source]\n",
    "Harary, F. and Read, R. “Is the Null Graph a Pointless Concept?” In Graphs and Combinatorics Conference, George Washington University. New York: Springer-Verlag, 1973.\n",
    "\n",
    "### -class NetworkXAlgorithmError[source]\n",
    "Exception for unexpected termination of algorithms.\n",
    "\n",
    "### -class NetworkXUnfeasible[source]\n",
    "Exception raised by algorithms trying to solve a problem instance that has no feasible solution.\n",
    "\n",
    "### -class NetworkXNoPath[source]\n",
    "Exception for algorithms that should return a path when running on graphs where such a path does not exist.\n",
    "\n",
    "### -class NetworkXUnbounded[source]\n",
    "Exception raised by algorithms trying to solve a maximization or a minimization problem instance that is unbounded.\n",
    "\n"
   ]
  },
  {
   "cell_type": "markdown",
   "metadata": {},
   "source": []
  },
  {
   "cell_type": "code",
   "execution_count": null,
   "metadata": {
    "collapsed": true
   },
   "outputs": [],
   "source": []
  },
  {
   "cell_type": "code",
   "execution_count": null,
   "metadata": {
    "collapsed": true
   },
   "outputs": [],
   "source": []
  }
 ],
 "metadata": {
  "kernelspec": {
   "display_name": "Python 3",
   "language": "python",
   "name": "python3"
  },
  "language_info": {
   "codemirror_mode": {
    "name": "ipython",
    "version": 3
   },
   "file_extension": ".py",
   "mimetype": "text/x-python",
   "name": "python",
   "nbconvert_exporter": "python",
   "pygments_lexer": "ipython3",
   "version": "3.5.0"
  }
 },
 "nbformat": 4,
 "nbformat_minor": 0
}
