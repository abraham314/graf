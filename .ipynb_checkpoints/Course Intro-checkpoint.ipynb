{
 "cells": [
  {
   "cell_type": "markdown",
   "metadata": {},
   "source": []
  },
  {
   "cell_type": "markdown",
   "metadata": {},
   "source": [
    "### Course Layout\n",
    "\t•\tNetworkX Basics\n",
    "\t•\tNodes and Edges\n",
    "    \n",
    "    Graph types\n",
    "\t•\tWhich graph class should I use?\n",
    "\t•\tBasic graph types\n",
    "    \n",
    "    Algorithms\n",
    "\t•\tApproximation\n",
    "\t•\tAssortativity\n",
    "\t•\tBipartite\n",
    "\t•\tBlockmodeling\n",
    "\t•\tBoundary\n",
    "\t•\tCentrality\n",
    "\t•\tChordal\n",
    "\t•\tClique\n",
    "\t•\tClustering\n",
    "\t•\tColoring\n",
    "\t•\tCommunities\n",
    "\t•\tComponents\n",
    "\t•\tConnectivity\n",
    "\t•\tCores\n",
    "\t•\tCycles\n",
    "\t•\tDirected Acyclic Graphs\n",
    "\t•\tDistance Measures\n",
    "\t•\tDistance-Regular Graphs\n",
    "\t•\tDominance\n",
    "\t•\tDominating Sets\n",
    "\t•\tEulerian\n",
    "\t•\tFlows\n",
    "\t•\tGraphical degree sequence\n",
    "\t•\tHierarchy\n",
    "\t•\tHybrid\n",
    "\t•\tIsolates\n",
    "\t•\tIsomorphism\n",
    "\t•\tLink Analysis\n",
    "\t•\tLink Prediction\n",
    "\t•\tMatching\n",
    "\t•\tMinors\n",
    "\t•\tMaximal independent set\n",
    "\t•\tMinimum Spanning Tree\n",
    "\t•\tOperators\n",
    "\t•\tRich Club\n",
    "\t•\tShortest Paths\n",
    "\t•\tSimple Paths\n",
    "\t•\tSwap\n",
    "\t•\tTraversal\n",
    "\t•\tTree\n",
    "\t•\tTriads\n",
    "\t•\tVitality\n",
    "    Functions\n",
    "\t•\tGraph\n",
    "\t•\tNodes\n",
    "\t•\tEdges\n",
    "\t•\tAttributes\n",
    "\t•\tFreezing graph structure\n",
    "\t•\tGraph generators\n",
    "\t•\tAtlas\n",
    "\t•\tClassic\n",
    "\t•\tExpanders\n",
    "\t•\tSmall\n",
    "\t•\tRandom Graphs\n",
    "\t•\tDegree Sequence\n",
    "\t•\tRandom Clustered\n",
    "\t•\tDirected\n",
    "\t•\tGeometric\n",
    "\t•\tLine Graph\n",
    "\t•\tEgo Graph\n",
    "\t•\tStochastic\n",
    "\t•\tIntersection\n",
    "\t•\tSocial Networks\n",
    "\t•\tCommunity\n",
    "\t•\tNon Isomorphic Trees\n",
    "    \n",
    "    Linear algebra\n",
    "\t•\tGraph Matrix\n",
    "\t•\tLaplacian Matrix\n",
    "\t•\tSpectrum\n",
    "\t•\tAlgebraic Connectivity\n",
    "\t•\tAttribute Matrices\n",
    "\t•\tConverting to and from other data formats\n",
    "\t•\tTo NetworkX Graph\n",
    "\t•\tDictionaries\n",
    "\t•\tLists\n",
    "\t•\tNumpy\n",
    "\t•\tScipy\n",
    "\t•\tPandas\n",
    "    Reading and writing graphs\n",
    "\t•\tAdjacency List\n",
    "\t•\tMultiline Adjacency List\n",
    "\t•\tEdge List\n",
    "\t•\tGEXF\n",
    "\t•\tGML\n",
    "\t•\tPickle\n",
    "\t•\tGraphML\n",
    "\t•\tJSON\n",
    "\t•\tLEDA\n",
    "\t•\tYAML\n",
    "\t•\tSparseGraph6\n",
    "\t•\tPajek\n",
    "\t•\tGIS Shapefile\n",
    "\tDrawing\n",
    "\t•\tMatplotlib\n",
    "\t•\tGraphviz AGraph (dot)\n",
    "\t•\tGraphviz with pydot\n",
    "\t•\tGraph Layout\n",
    "\tExceptions\n",
    "\t•\tExceptions\n",
    "    Utilities\n",
    "\t•\tHelper Functions\n",
    "\t•\tData Structures and Algorithms\n",
    "\t•\tRandom Sequence Generators\n",
    "\t•\tDecorators\n",
    "\t•\tCuthill-Mckee Ordering\n",
    "\t•\tContext Managers\n"
   ]
  },
  {
   "cell_type": "markdown",
   "metadata": {},
   "source": [
    "http://networkx.lanl.gov/tutorial/index.html"
   ]
  },
  {
   "cell_type": "markdown",
   "metadata": {},
   "source": [
    "Video tutorial -\n",
    "http://showmedo.com/videotutorials/python $\\\\$\n",
    "Python tutorial - http://docs.python.org/tutorial/\n",
    "Networkx tutorial -\n",
    "http://networkx.lanl.gov/tutorial/index.html\n",
    "Matplotlib tutorial -\n",
    "http://matplotlib.sourceforge.net/users/pyplot_tutorial.html\n",
    "Python cheatsheet -\n",
    "http://www.ibm.com/developerworks/library/l-cheatsheet"
   ]
  },
  {
   "cell_type": "markdown",
   "metadata": {},
   "source": []
  },
  {
   "cell_type": "markdown",
   "metadata": {},
   "source": [
    "https://www.udacity.com/wiki/creating-network-graphs-with-python"
   ]
  },
  {
   "cell_type": "markdown",
   "metadata": {},
   "source": [
    "http://www-rohan.sdsu.edu/~gawron/python_for_ss/course_core/book_draft/Social_Networks/Social_Networks_intro.html"
   ]
  },
  {
   "cell_type": "code",
   "execution_count": null,
   "metadata": {
    "collapsed": true
   },
   "outputs": [],
   "source": []
  }
 ],
 "metadata": {
  "kernelspec": {
   "display_name": "Python 3",
   "language": "python",
   "name": "python3"
  },
  "language_info": {
   "codemirror_mode": {
    "name": "ipython",
    "version": 3
   },
   "file_extension": ".py",
   "mimetype": "text/x-python",
   "name": "python",
   "nbconvert_exporter": "python",
   "pygments_lexer": "ipython3",
   "version": "3.5.0"
  }
 },
 "nbformat": 4,
 "nbformat_minor": 0
}
